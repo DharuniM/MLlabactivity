{
  "nbformat": 4,
  "nbformat_minor": 0,
  "metadata": {
    "colab": {
      "provenance": []
    },
    "kernelspec": {
      "name": "python3",
      "display_name": "Python 3"
    },
    "language_info": {
      "name": "python"
    }
  },
  "cells": [
    {
      "cell_type": "markdown",
      "source": [
        "## Exercise : 2"
      ],
      "metadata": {
        "id": "6cgfbYIIGqPf"
      }
    },
    {
      "cell_type": "markdown",
      "source": [
        "What do you do after work in your free time can depend on the weather. If it is sunny,you might choose to picnic with a friend,grab a drink with a colleague, or run errands.If it is raining , you might stay home and watch a movie instead. In this scenario   , you have a clear outcome . In this case , that is classified as whether to \"go out\" or \"stay in\"."
      ],
      "metadata": {
        "id": "H46EyLP1Gtrs"
      }
    },
    {
      "cell_type": "code",
      "execution_count": null,
      "metadata": {
        "id": "-5sVuvEds4rB"
      },
      "outputs": [],
      "source": [
        "import pandas as pd\n",
        "from sklearn.model_selection import train_test_split\n",
        "from sklearn.preprocessing import LabelEncoder\n",
        "from sklearn.tree import DecisionTreeClassifier\n",
        "from sklearn.metrics import accuracy_score"
      ]
    },
    {
      "cell_type": "code",
      "source": [
        "df = pd.read_csv(\"weather_activity.csv\")\n",
        "\n",
        "print(\"weather_activity.csv\")\n",
        "print(df.head())"
      ],
      "metadata": {
        "colab": {
          "base_uri": "https://localhost:8080/"
        },
        "id": "TfLEoiFSIytW",
        "outputId": "b40e7a9f-00d3-4367-8491-e2d2c9a50fdd"
      },
      "execution_count": null,
      "outputs": [
        {
          "output_type": "stream",
          "name": "stdout",
          "text": [
            "weather_activity.csv\n",
            "  Weather                     Activity Outcome\n",
            "0   Sunny                 Outdoor walk  Go Out\n",
            "1   Sunny  Grab a drink with colleague  Go Out\n",
            "2   Sunny                  Go shopping  Go Out\n",
            "3   Sunny                 Outdoor walk  Go Out\n",
            "4   Sunny  Grab a drink with colleague  Go Out\n"
          ]
        }
      ]
    },
    {
      "cell_type": "code",
      "source": [
        "weather = LabelEncoder()\n",
        "df[\"Weather_encoded\"] = weather.fit_transform(df[\"Weather\"])"
      ],
      "metadata": {
        "id": "ITe1sA_gJD2a"
      },
      "execution_count": null,
      "outputs": []
    },
    {
      "cell_type": "code",
      "source": [
        "outcome = LabelEncoder()\n",
        "df[\"Outcome_encoded\"] = outcome.fit_transform(df[\"Outcome\"])"
      ],
      "metadata": {
        "id": "tu91eBXLJI_G"
      },
      "execution_count": null,
      "outputs": []
    },
    {
      "cell_type": "code",
      "source": [
        "X = df[[\"Weather_encoded\"]]\n",
        "y = df[\"Outcome_encoded\"]"
      ],
      "metadata": {
        "id": "TXfuWEksJYcD"
      },
      "execution_count": null,
      "outputs": []
    },
    {
      "cell_type": "code",
      "source": [
        "X_train, X_test, y_train, y_test = train_test_split(X, y, test_size=0.3, random_state=42)\n",
        "\n",
        "model = DecisionTreeClassifier()\n",
        "model.fit(X_train, y_train)\n",
        "y_pred = model.predict(X_test)"
      ],
      "metadata": {
        "id": "WM0QOwUxJogK"
      },
      "execution_count": null,
      "outputs": []
    },
    {
      "cell_type": "code",
      "source": [
        "print(\"Accuracy:\", accuracy_score(y_test, y_pred))"
      ],
      "metadata": {
        "colab": {
          "base_uri": "https://localhost:8080/"
        },
        "id": "lHTdbeNVJqDl",
        "outputId": "aa539f74-d779-419b-9ee3-2c4a59b9b82c"
      },
      "execution_count": null,
      "outputs": [
        {
          "output_type": "stream",
          "name": "stdout",
          "text": [
            "Accuracy: 1.0\n"
          ]
        }
      ]
    },
    {
      "cell_type": "code",
      "source": [
        "test_weather = [\"Sunny\", \"Rainy\"]\n",
        "test_encoded = weather.transform(test_weather)\n",
        "predictions = model.predict(test_encoded.reshape(-1, 1))"
      ],
      "metadata": {
        "colab": {
          "base_uri": "https://localhost:8080/"
        },
        "id": "OohPSK-xJw4F",
        "outputId": "d4262f8a-42d0-49c9-bc09-3b1d95013067"
      },
      "execution_count": null,
      "outputs": [
        {
          "output_type": "stream",
          "name": "stderr",
          "text": [
            "/usr/local/lib/python3.12/dist-packages/sklearn/utils/validation.py:2739: UserWarning: X does not have valid feature names, but DecisionTreeClassifier was fitted with feature names\n",
            "  warnings.warn(\n"
          ]
        }
      ]
    },
    {
      "cell_type": "code",
      "source": [
        "results = pd.DataFrame({\"Weather\": test_weather, \"Predicted_Outcome\": outcome.inverse_transform(predictions)})\n",
        "print(results)"
      ],
      "metadata": {
        "colab": {
          "base_uri": "https://localhost:8080/"
        },
        "id": "BHPFj2ByNg0w",
        "outputId": "68943f15-1160-403c-ba25-16ab4dcf5892"
      },
      "execution_count": null,
      "outputs": [
        {
          "output_type": "stream",
          "name": "stdout",
          "text": [
            "  Weather Predicted_Outcome\n",
            "0   Sunny            Go Out\n",
            "1   Rainy           Stay In\n"
          ]
        }
      ]
    }
  ]
}